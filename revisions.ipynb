{
 "cells": [
  {
   "cell_type": "code",
   "execution_count": 1,
   "id": "cbc853ef",
   "metadata": {},
   "outputs": [],
   "source": [
    "import pandas as pd"
   ]
  },
  {
   "cell_type": "code",
   "execution_count": 5,
   "id": "8cf2c4c1",
   "metadata": {},
   "outputs": [
    {
     "data": {
      "text/html": [
       "<div>\n",
       "<style scoped>\n",
       "    .dataframe tbody tr th:only-of-type {\n",
       "        vertical-align: middle;\n",
       "    }\n",
       "\n",
       "    .dataframe tbody tr th {\n",
       "        vertical-align: top;\n",
       "    }\n",
       "\n",
       "    .dataframe thead th {\n",
       "        text-align: right;\n",
       "    }\n",
       "</style>\n",
       "<table border=\"1\" class=\"dataframe\">\n",
       "  <thead>\n",
       "    <tr style=\"text-align: right;\">\n",
       "      <th></th>\n",
       "      <th>school_district</th>\n",
       "      <th>score</th>\n",
       "      <th>expenditures_for_public_elementary_and_secondary_schools_per_pupil</th>\n",
       "      <th>income_by_school_district</th>\n",
       "    </tr>\n",
       "  </thead>\n",
       "  <tbody>\n",
       "    <tr>\n",
       "      <th>0</th>\n",
       "      <td>Abc Unified</td>\n",
       "      <td>8.12</td>\n",
       "      <td>$12,189</td>\n",
       "      <td>$81,101</td>\n",
       "    </tr>\n",
       "    <tr>\n",
       "      <th>1</th>\n",
       "      <td>Acalanes Union High</td>\n",
       "      <td>77.56</td>\n",
       "      <td>$15,267</td>\n",
       "      <td>$129,146</td>\n",
       "    </tr>\n",
       "    <tr>\n",
       "      <th>2</th>\n",
       "      <td>Acton-Agua Dulce Unified</td>\n",
       "      <td>32.54</td>\n",
       "      <td>$14,318</td>\n",
       "      <td>$100,556</td>\n",
       "    </tr>\n",
       "    <tr>\n",
       "      <th>3</th>\n",
       "      <td>Adelanto Elementary</td>\n",
       "      <td>30.62</td>\n",
       "      <td>$12,993</td>\n",
       "      <td>$60,414</td>\n",
       "    </tr>\n",
       "    <tr>\n",
       "      <th>4</th>\n",
       "      <td>Alameda Unified</td>\n",
       "      <td>32.25</td>\n",
       "      <td>$13,436</td>\n",
       "      <td>$104,756</td>\n",
       "    </tr>\n",
       "  </tbody>\n",
       "</table>\n",
       "</div>"
      ],
      "text/plain": [
       "            school_district  score  \\\n",
       "0               Abc Unified   8.12   \n",
       "1       Acalanes Union High  77.56   \n",
       "2  Acton-Agua Dulce Unified  32.54   \n",
       "3       Adelanto Elementary  30.62   \n",
       "4           Alameda Unified  32.25   \n",
       "\n",
       "  expenditures_for_public_elementary_and_secondary_schools_per_pupil  \\\n",
       "0                                            $12,189                   \n",
       "1                                            $15,267                   \n",
       "2                                            $14,318                   \n",
       "3                                            $12,993                   \n",
       "4                                            $13,436                   \n",
       "\n",
       "  income_by_school_district  \n",
       "0                   $81,101  \n",
       "1                  $129,146  \n",
       "2                  $100,556  \n",
       "3                   $60,414  \n",
       "4                  $104,756  "
      ]
     },
     "execution_count": 5,
     "metadata": {},
     "output_type": "execute_result"
    }
   ],
   "source": [
    "school_district_equity = pd.read_csv('data/school_districts_equity_ca.csv').drop(columns='Unnamed: 0')\n",
    "school_district_equity.head()"
   ]
  },
  {
   "cell_type": "raw",
   "id": "3afd3b33",
   "metadata": {},
   "source": []
  }
 ],
 "metadata": {
  "kernelspec": {
   "display_name": "Python 3",
   "language": "python",
   "name": "python3"
  },
  "language_info": {
   "codemirror_mode": {
    "name": "ipython",
    "version": 3
   },
   "file_extension": ".py",
   "mimetype": "text/x-python",
   "name": "python",
   "nbconvert_exporter": "python",
   "pygments_lexer": "ipython3",
   "version": "3.8.8"
  }
 },
 "nbformat": 4,
 "nbformat_minor": 5
}
